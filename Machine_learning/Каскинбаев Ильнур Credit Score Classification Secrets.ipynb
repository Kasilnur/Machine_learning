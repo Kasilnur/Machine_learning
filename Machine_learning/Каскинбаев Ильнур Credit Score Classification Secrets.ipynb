{
 "cells": [
  {
   "cell_type": "markdown",
   "id": "c6949f0b-cef0-4511-8d07-979e890d4763",
   "metadata": {},
   "source": [
    "### Подключение модулей"
   ]
  },
  {
   "cell_type": "code",
   "execution_count": 276,
   "id": "3ce0af8f-8958-46e0-be6c-28139379f58e",
   "metadata": {},
   "outputs": [],
   "source": [
    "import numpy as np\n",
    "import pandas as pd\n",
    "import matplotlib.pyplot as plt\n",
    "import seaborn as sns\n",
    "import warnings \n",
    "warnings.filterwarnings('ignore')"
   ]
  },
  {
   "cell_type": "markdown",
   "id": "7e6130cf-8525-4ace-a4fc-e4f60271108c",
   "metadata": {},
   "source": [
    "### Загрузка данных"
   ]
  },
  {
   "cell_type": "code",
   "execution_count": 310,
   "id": "1ab6d647-99be-4e33-9e95-69e826372419",
   "metadata": {
    "scrolled": true
   },
   "outputs": [
    {
     "data": {
      "text/html": [
       "<div>\n",
       "<style scoped>\n",
       "    .dataframe tbody tr th:only-of-type {\n",
       "        vertical-align: middle;\n",
       "    }\n",
       "\n",
       "    .dataframe tbody tr th {\n",
       "        vertical-align: top;\n",
       "    }\n",
       "\n",
       "    .dataframe thead th {\n",
       "        text-align: right;\n",
       "    }\n",
       "</style>\n",
       "<table border=\"1\" class=\"dataframe\">\n",
       "  <thead>\n",
       "    <tr style=\"text-align: right;\">\n",
       "      <th></th>\n",
       "      <th>Month</th>\n",
       "      <th>Name</th>\n",
       "      <th>Age</th>\n",
       "      <th>SSN</th>\n",
       "      <th>Occupation</th>\n",
       "      <th>Annual_Income</th>\n",
       "      <th>Monthly_Inhand_Salary</th>\n",
       "      <th>Num_Bank_Accounts</th>\n",
       "      <th>Num_Credit_Card</th>\n",
       "      <th>Interest_Rate</th>\n",
       "      <th>...</th>\n",
       "      <th>Credit_Mix</th>\n",
       "      <th>Outstanding_Debt</th>\n",
       "      <th>Credit_Utilization_Ratio</th>\n",
       "      <th>Credit_History_Age</th>\n",
       "      <th>Payment_of_Min_Amount</th>\n",
       "      <th>Total_EMI_per_month</th>\n",
       "      <th>Amount_invested_monthly</th>\n",
       "      <th>Payment_Behaviour</th>\n",
       "      <th>Monthly_Balance</th>\n",
       "      <th>Credit_Score</th>\n",
       "    </tr>\n",
       "  </thead>\n",
       "  <tbody>\n",
       "    <tr>\n",
       "      <th>0</th>\n",
       "      <td>January</td>\n",
       "      <td>Aaron Maashoh</td>\n",
       "      <td>38.449019</td>\n",
       "      <td>821-00-0265</td>\n",
       "      <td>Scientist</td>\n",
       "      <td>19114.12</td>\n",
       "      <td>1824.8433333333328</td>\n",
       "      <td>3</td>\n",
       "      <td>4</td>\n",
       "      <td>3</td>\n",
       "      <td>...</td>\n",
       "      <td>_</td>\n",
       "      <td>809.98</td>\n",
       "      <td>26.822619623699016</td>\n",
       "      <td>22 Years and 1 Months</td>\n",
       "      <td>No</td>\n",
       "      <td>49.57494921489417</td>\n",
       "      <td>80.41529543900253</td>\n",
       "      <td>High_spent_Small_value_payments</td>\n",
       "      <td>312.49408867943663</td>\n",
       "      <td>Good</td>\n",
       "    </tr>\n",
       "    <tr>\n",
       "      <th>1</th>\n",
       "      <td>February</td>\n",
       "      <td>Aaron Maashoh</td>\n",
       "      <td>38.449019</td>\n",
       "      <td>821-00-0265</td>\n",
       "      <td>Scientist</td>\n",
       "      <td>19114.12</td>\n",
       "      <td>NaN</td>\n",
       "      <td>3</td>\n",
       "      <td>4</td>\n",
       "      <td>3</td>\n",
       "      <td>...</td>\n",
       "      <td>Good</td>\n",
       "      <td>809.98</td>\n",
       "      <td>31.94496005538421</td>\n",
       "      <td>NaN</td>\n",
       "      <td>No</td>\n",
       "      <td>49.57494921489417</td>\n",
       "      <td>118.28022162236736</td>\n",
       "      <td>Low_spent_Large_value_payments</td>\n",
       "      <td>284.62916249607184</td>\n",
       "      <td>Good</td>\n",
       "    </tr>\n",
       "    <tr>\n",
       "      <th>2</th>\n",
       "      <td>March</td>\n",
       "      <td>Aaron Maashoh</td>\n",
       "      <td>38.449019</td>\n",
       "      <td>821-00-0265</td>\n",
       "      <td>Scientist</td>\n",
       "      <td>19114.12</td>\n",
       "      <td>NaN</td>\n",
       "      <td>3</td>\n",
       "      <td>4</td>\n",
       "      <td>3</td>\n",
       "      <td>...</td>\n",
       "      <td>Good</td>\n",
       "      <td>809.98</td>\n",
       "      <td>28.60935202206993</td>\n",
       "      <td>22 Years and 3 Months</td>\n",
       "      <td>No</td>\n",
       "      <td>49.57494921489417</td>\n",
       "      <td>81.699521264648</td>\n",
       "      <td>Low_spent_Medium_value_payments</td>\n",
       "      <td>331.2098628537912</td>\n",
       "      <td>Good</td>\n",
       "    </tr>\n",
       "    <tr>\n",
       "      <th>3</th>\n",
       "      <td>April</td>\n",
       "      <td>Aaron Maashoh</td>\n",
       "      <td>38.449019</td>\n",
       "      <td>821-00-0265</td>\n",
       "      <td>Scientist</td>\n",
       "      <td>19114.12</td>\n",
       "      <td>NaN</td>\n",
       "      <td>3</td>\n",
       "      <td>4</td>\n",
       "      <td>3</td>\n",
       "      <td>...</td>\n",
       "      <td>Good</td>\n",
       "      <td>809.98</td>\n",
       "      <td>31.377861869582354</td>\n",
       "      <td>22 Years and 4 Months</td>\n",
       "      <td>No</td>\n",
       "      <td>49.57494921489417</td>\n",
       "      <td>199.4580743910713</td>\n",
       "      <td>Low_spent_Small_value_payments</td>\n",
       "      <td>223.45130972736786</td>\n",
       "      <td>Good</td>\n",
       "    </tr>\n",
       "    <tr>\n",
       "      <th>4</th>\n",
       "      <td>May</td>\n",
       "      <td>Aaron Maashoh</td>\n",
       "      <td>38.449019</td>\n",
       "      <td>821-00-0265</td>\n",
       "      <td>Scientist</td>\n",
       "      <td>19114.12</td>\n",
       "      <td>1824.8433333333328</td>\n",
       "      <td>3</td>\n",
       "      <td>4</td>\n",
       "      <td>3</td>\n",
       "      <td>...</td>\n",
       "      <td>Good</td>\n",
       "      <td>809.98</td>\n",
       "      <td>24.797346908844986</td>\n",
       "      <td>22 Years and 5 Months</td>\n",
       "      <td>No</td>\n",
       "      <td>49.57494921489417</td>\n",
       "      <td>41.420153086217326</td>\n",
       "      <td>High_spent_Medium_value_payments</td>\n",
       "      <td>341.48923103222177</td>\n",
       "      <td>Good</td>\n",
       "    </tr>\n",
       "  </tbody>\n",
       "</table>\n",
       "<p>5 rows × 26 columns</p>\n",
       "</div>"
      ],
      "text/plain": [
       "      Month           Name        Age          SSN Occupation Annual_Income  \\\n",
       "0   January  Aaron Maashoh  38.449019  821-00-0265  Scientist      19114.12   \n",
       "1  February  Aaron Maashoh  38.449019  821-00-0265  Scientist      19114.12   \n",
       "2     March  Aaron Maashoh  38.449019  821-00-0265  Scientist      19114.12   \n",
       "3     April  Aaron Maashoh  38.449019  821-00-0265  Scientist      19114.12   \n",
       "4       May  Aaron Maashoh  38.449019  821-00-0265  Scientist      19114.12   \n",
       "\n",
       "  Monthly_Inhand_Salary Num_Bank_Accounts Num_Credit_Card Interest_Rate  ...  \\\n",
       "0    1824.8433333333328                 3               4             3  ...   \n",
       "1                   NaN                 3               4             3  ...   \n",
       "2                   NaN                 3               4             3  ...   \n",
       "3                   NaN                 3               4             3  ...   \n",
       "4    1824.8433333333328                 3               4             3  ...   \n",
       "\n",
       "  Credit_Mix Outstanding_Debt Credit_Utilization_Ratio     Credit_History_Age  \\\n",
       "0          _           809.98       26.822619623699016  22 Years and 1 Months   \n",
       "1       Good           809.98        31.94496005538421                    NaN   \n",
       "2       Good           809.98        28.60935202206993  22 Years and 3 Months   \n",
       "3       Good           809.98       31.377861869582354  22 Years and 4 Months   \n",
       "4       Good           809.98       24.797346908844986  22 Years and 5 Months   \n",
       "\n",
       "  Payment_of_Min_Amount Total_EMI_per_month Amount_invested_monthly  \\\n",
       "0                    No   49.57494921489417       80.41529543900253   \n",
       "1                    No   49.57494921489417      118.28022162236736   \n",
       "2                    No   49.57494921489417         81.699521264648   \n",
       "3                    No   49.57494921489417       199.4580743910713   \n",
       "4                    No   49.57494921489417      41.420153086217326   \n",
       "\n",
       "                  Payment_Behaviour     Monthly_Balance Credit_Score  \n",
       "0   High_spent_Small_value_payments  312.49408867943663         Good  \n",
       "1    Low_spent_Large_value_payments  284.62916249607184         Good  \n",
       "2   Low_spent_Medium_value_payments   331.2098628537912         Good  \n",
       "3    Low_spent_Small_value_payments  223.45130972736786         Good  \n",
       "4  High_spent_Medium_value_payments  341.48923103222177         Good  \n",
       "\n",
       "[5 rows x 26 columns]"
      ]
     },
     "execution_count": 310,
     "metadata": {},
     "output_type": "execute_result"
    }
   ],
   "source": [
    "# загружаем данные из файла в формате CSV и сохраняем переменную df\n",
    "df_train = pd.read_csv('train.csv', dtype=\"unicode\")\n",
    "df.head()"
   ]
  },
  {
   "cell_type": "code",
   "execution_count": null,
   "id": "707ef2f9-b234-40ea-a3a8-1abf173cf67b",
   "metadata": {},
   "outputs": [],
   "source": []
  },
  {
   "cell_type": "markdown",
   "id": "ac955c1e-fb95-4331-9495-29ec56751bc1",
   "metadata": {},
   "source": [
    "### Описание данных"
   ]
  },
  {
   "cell_type": "markdown",
   "id": "680a9ea5-b825-40fa-a1b9-0335a080648b",
   "metadata": {},
   "source": [
    "\r\n",
    "Признаки:\r\n",
    "\r\n",
    "- ID – Уникальный идентификатор для каждой записи.\r\n",
    "- Customer_ID – Уникальный идентификатор для каждого клиента.\r\n",
    "- Month – Месяц транзакции или записи.\r\n",
    "- Name – Имя клиента.\r\n",
    "- Age – Возраст клиента.\r\n",
    "- SSN – Номер социального страхования клиента.\r\n",
    "- Occupation – Профессия клиента.\r\n",
    "- Annual_Income – Годовой доход клиента.\r\n",
    "- Monthly_Inhand_Salary – Месячная заработная плата клиента.\r\n",
    "- Num_Bank_Accounts – Общее количество банковских счетов, принадлежащих клиенту.\r\n",
    "- Num_Credit_Card – Общее количество кредитных карт, которыми владеет клиент.\r\n",
    "- Interest_Rate – Процентная ставка, применяемая к займам или кредитам.\r\n",
    "- Num_of_Loan – Количество кредитов, взятых клиентом.\r\n",
    "- Type_of_Loan – Категории кредитов, полученных клиентом.\r\n",
    "- Delay_from_due_date – Задержка платежей по сравнению с установленной датой.\r\n",
    "- Num_of_Delayed_Payment – Общее количество случаев просрочки платежей, совершенных клиентом.\r\n",
    "- Changed_Credit_Limit – Корректировки, внесенные в кредитный лимит клиента.\r\n",
    "- Num_Credit_Inquiries – Количество запросов, сделанных в отношении кредита клиента.\r\n",
    "- Credit_Mix – Разновидности кредитов, которыми пользуется клиент (например, кредиты, кредитные карты).\r\n",
    "- Outstanding_Debt – Общая сумма задолженности клиента на данный момент.\r\n",
    "- Credit_Utilization_Ratio – Доля использованного кредита по сравнению с общим кредитным лимитом.\r\n",
    "- Credit_History_Age – Продолжительность кредитной истории клиента.\r\n",
    "- Payment_of_Min_Amount – Указывает, платит ли клиент ежемесячно минимально необходимую сумму.\r\n",
    "- Total_EMI_per_month – Общий эквивалентный ежемесячный платеж (EMI), выплаченный клиентом.\r\n",
    "- Amount_invested_monthly – Ежемесячная сумма инвестиций клиента.\r\n",
    "- Payment_Behaviour – Платежные привычки и склонности клиента.\r\n",
    "- Monthly_Balance –  Остаток на счете клиента в конце каждого месяца.\r\n",
    "\r\n",
    "Целевой (искомый) признак:\r\n",
    "- Credit_Score –  Кредитная оценка клиента (целевая переменная: «Хорошая», «Плохая», «Стандартная»).орошая», «Плохая», «Стандартная»).рошая», «Плохая», «Стандартная»)."
   ]
  },
  {
   "cell_type": "markdown",
   "id": "ad333c2d-8c22-44b0-ab46-0e19768fc941",
   "metadata": {},
   "source": [
    "### Разведочный анализ данных (РАД, EDA)"
   ]
  },
  {
   "cell_type": "code",
   "execution_count": 278,
   "id": "cb842f81-6dd0-404d-838c-3cc25a286602",
   "metadata": {},
   "outputs": [
    {
     "data": {
      "text/plain": [
       "(50000, 27)"
      ]
     },
     "execution_count": 278,
     "metadata": {},
     "output_type": "execute_result"
    }
   ],
   "source": [
    "# Размерность данных\n",
    "df_test.shape"
   ]
  },
  {
   "cell_type": "code",
   "execution_count": 279,
   "id": "51abff32-f00e-42d6-9036-466782ad25b3",
   "metadata": {},
   "outputs": [
    {
     "data": {
      "text/plain": [
       "ID                          object\n",
       "Customer_ID                 object\n",
       "Month                       object\n",
       "Name                        object\n",
       "Age                         object\n",
       "SSN                         object\n",
       "Occupation                  object\n",
       "Annual_Income               object\n",
       "Monthly_Inhand_Salary       object\n",
       "Num_Bank_Accounts           object\n",
       "Num_Credit_Card             object\n",
       "Interest_Rate               object\n",
       "Num_of_Loan                 object\n",
       "Type_of_Loan                object\n",
       "Delay_from_due_date         object\n",
       "Num_of_Delayed_Payment      object\n",
       "Changed_Credit_Limit        object\n",
       "Num_Credit_Inquiries        object\n",
       "Credit_Mix                  object\n",
       "Outstanding_Debt            object\n",
       "Credit_Utilization_Ratio    object\n",
       "Credit_History_Age          object\n",
       "Payment_of_Min_Amount       object\n",
       "Total_EMI_per_month         object\n",
       "Amount_invested_monthly     object\n",
       "Payment_Behaviour           object\n",
       "Monthly_Balance             object\n",
       "dtype: object"
      ]
     },
     "execution_count": 279,
     "metadata": {},
     "output_type": "execute_result"
    }
   ],
   "source": [
    "# выводим типы данных\n",
    "df_test.dtypes"
   ]
  },
  {
   "cell_type": "markdown",
   "id": "d69af143-e205-41c4-b310-f26d6855e51e",
   "metadata": {},
   "source": [
    "Целевая переменная - __Credit_Score__. В тестовой части этого признака нет. Поэтому в работе будем использовать датасет для тренировки."
   ]
  },
  {
   "cell_type": "code",
   "execution_count": 280,
   "id": "0ff54f7e-f1fe-427a-be12-ab2fd8d82182",
   "metadata": {},
   "outputs": [
    {
     "name": "stdout",
     "output_type": "stream",
     "text": [
      "<class 'pandas.core.frame.DataFrame'>\n",
      "RangeIndex: 100000 entries, 0 to 99999\n",
      "Data columns (total 28 columns):\n",
      " #   Column                    Non-Null Count   Dtype \n",
      "---  ------                    --------------   ----- \n",
      " 0   ID                        100000 non-null  object\n",
      " 1   Customer_ID               100000 non-null  object\n",
      " 2   Month                     100000 non-null  object\n",
      " 3   Name                      90015 non-null   object\n",
      " 4   Age                       100000 non-null  object\n",
      " 5   SSN                       100000 non-null  object\n",
      " 6   Occupation                100000 non-null  object\n",
      " 7   Annual_Income             100000 non-null  object\n",
      " 8   Monthly_Inhand_Salary     84998 non-null   object\n",
      " 9   Num_Bank_Accounts         100000 non-null  object\n",
      " 10  Num_Credit_Card           100000 non-null  object\n",
      " 11  Interest_Rate             100000 non-null  object\n",
      " 12  Num_of_Loan               100000 non-null  object\n",
      " 13  Type_of_Loan              88592 non-null   object\n",
      " 14  Delay_from_due_date       100000 non-null  object\n",
      " 15  Num_of_Delayed_Payment    92998 non-null   object\n",
      " 16  Changed_Credit_Limit      100000 non-null  object\n",
      " 17  Num_Credit_Inquiries      98035 non-null   object\n",
      " 18  Credit_Mix                100000 non-null  object\n",
      " 19  Outstanding_Debt          100000 non-null  object\n",
      " 20  Credit_Utilization_Ratio  100000 non-null  object\n",
      " 21  Credit_History_Age        90970 non-null   object\n",
      " 22  Payment_of_Min_Amount     100000 non-null  object\n",
      " 23  Total_EMI_per_month       100000 non-null  object\n",
      " 24  Amount_invested_monthly   95521 non-null   object\n",
      " 25  Payment_Behaviour         100000 non-null  object\n",
      " 26  Monthly_Balance           98800 non-null   object\n",
      " 27  Credit_Score              100000 non-null  object\n",
      "dtypes: object(28)\n",
      "memory usage: 21.4+ MB\n"
     ]
    }
   ],
   "source": [
    "# Общая информация о датасете\n",
    "df_train.info()"
   ]
  },
  {
   "cell_type": "markdown",
   "id": "d9712f65-7d69-4703-8fdb-dfbc8df0f47c",
   "metadata": {},
   "source": [
    "Признаки __Name__, __Monthly__, __Inhand_Salary__, __Type_of_Loan__, __Num_of_Delayed_Payment__, __Num_Credit_Inquiries__, __Credit_History_Age__, __Amount_invested_monthly__, __Monthly_Balance__ имеют пустые значения"
   ]
  },
  {
   "cell_type": "markdown",
   "id": "e3e6533a-6f97-4c70-a5b5-10e2df0f84f0",
   "metadata": {},
   "source": [
    "Все признаки представлены в типе данных `object`. Необходимо привести соответсвующие парматеры к соотвутсвующему типу данных."
   ]
  },
  {
   "cell_type": "markdown",
   "id": "2f3f961a-0588-465c-8fef-026a3acfb8c8",
   "metadata": {},
   "source": [
    "__Столбцы обозначающие ID можно удалить.__"
   ]
  },
  {
   "cell_type": "code",
   "execution_count": 281,
   "id": "bc84d2a4-b5bb-45d9-8c5c-891f294fa8f4",
   "metadata": {},
   "outputs": [
    {
     "data": {
      "text/plain": [
       "0"
      ]
     },
     "execution_count": 281,
     "metadata": {},
     "output_type": "execute_result"
    }
   ],
   "source": [
    "df.duplicated().sum()"
   ]
  },
  {
   "cell_type": "code",
   "execution_count": 282,
   "id": "94fa002e-36a0-42f8-8bbe-aaca4b8b1cde",
   "metadata": {},
   "outputs": [
    {
     "name": "stdout",
     "output_type": "stream",
     "text": [
      "<class 'pandas.core.frame.DataFrame'>\n",
      "RangeIndex: 100000 entries, 0 to 99999\n",
      "Data columns (total 28 columns):\n",
      " #   Column                    Non-Null Count   Dtype \n",
      "---  ------                    --------------   ----- \n",
      " 0   ID                        100000 non-null  object\n",
      " 1   Customer_ID               100000 non-null  object\n",
      " 2   Month                     100000 non-null  object\n",
      " 3   Name                      90015 non-null   object\n",
      " 4   Age                       100000 non-null  object\n",
      " 5   SSN                       100000 non-null  object\n",
      " 6   Occupation                100000 non-null  object\n",
      " 7   Annual_Income             100000 non-null  object\n",
      " 8   Monthly_Inhand_Salary     84998 non-null   object\n",
      " 9   Num_Bank_Accounts         100000 non-null  object\n",
      " 10  Num_Credit_Card           100000 non-null  object\n",
      " 11  Interest_Rate             100000 non-null  object\n",
      " 12  Num_of_Loan               100000 non-null  object\n",
      " 13  Type_of_Loan              88592 non-null   object\n",
      " 14  Delay_from_due_date       100000 non-null  object\n",
      " 15  Num_of_Delayed_Payment    92998 non-null   object\n",
      " 16  Changed_Credit_Limit      100000 non-null  object\n",
      " 17  Num_Credit_Inquiries      98035 non-null   object\n",
      " 18  Credit_Mix                100000 non-null  object\n",
      " 19  Outstanding_Debt          100000 non-null  object\n",
      " 20  Credit_Utilization_Ratio  100000 non-null  object\n",
      " 21  Credit_History_Age        90970 non-null   object\n",
      " 22  Payment_of_Min_Amount     100000 non-null  object\n",
      " 23  Total_EMI_per_month       100000 non-null  object\n",
      " 24  Amount_invested_monthly   95521 non-null   object\n",
      " 25  Payment_Behaviour         100000 non-null  object\n",
      " 26  Monthly_Balance           98800 non-null   object\n",
      " 27  Credit_Score              100000 non-null  object\n",
      "dtypes: object(28)\n",
      "memory usage: 21.4+ MB\n"
     ]
    }
   ],
   "source": [
    "df_train.info()"
   ]
  },
  {
   "cell_type": "code",
   "execution_count": 283,
   "id": "0b9c5142-29a5-4331-b3fc-859a1494b433",
   "metadata": {},
   "outputs": [
    {
     "data": {
      "text/plain": [
       "Month                           0\n",
       "Name                         9985\n",
       "Age                             0\n",
       "SSN                             0\n",
       "Occupation                  92938\n",
       "Annual_Income                   0\n",
       "Monthly_Inhand_Salary       15002\n",
       "Num_Bank_Accounts               0\n",
       "Num_Credit_Card                 0\n",
       "Interest_Rate                   0\n",
       "Num_of_Loan                     0\n",
       "Type_of_Loan                11408\n",
       "Delay_from_due_date             0\n",
       "Num_of_Delayed_Payment       7002\n",
       "Changed_Credit_Limit            0\n",
       "Num_Credit_Inquiries         1965\n",
       "Credit_Mix                      0\n",
       "Outstanding_Debt                0\n",
       "Credit_Utilization_Ratio        0\n",
       "Credit_History_Age           9030\n",
       "Payment_of_Min_Amount           0\n",
       "Total_EMI_per_month             0\n",
       "Amount_invested_monthly      4479\n",
       "Payment_Behaviour               0\n",
       "Monthly_Balance              1200\n",
       "Credit_Score                    0\n",
       "dtype: int64"
      ]
     },
     "execution_count": 283,
     "metadata": {},
     "output_type": "execute_result"
    }
   ],
   "source": [
    "df.isnull().sum()"
   ]
  },
  {
   "cell_type": "code",
   "execution_count": 284,
   "id": "674f6321-8e78-4ac8-a394-2e64fff781e9",
   "metadata": {},
   "outputs": [
    {
     "data": {
      "text/plain": [
       "3"
      ]
     },
     "execution_count": 284,
     "metadata": {},
     "output_type": "execute_result"
    }
   ],
   "source": [
    "# исследование целевого (target) признака - Кредитная оценка клиента \n",
    "df_train['Credit_Score'].nunique()"
   ]
  },
  {
   "cell_type": "code",
   "execution_count": 285,
   "id": "8f21cee4-482a-46e6-a996-e3b8711f865f",
   "metadata": {},
   "outputs": [
    {
     "data": {
      "text/plain": [
       "array(['Good', 'Standard', 'Poor'], dtype=object)"
      ]
     },
     "execution_count": 285,
     "metadata": {},
     "output_type": "execute_result"
    }
   ],
   "source": [
    "df_train['Credit_Score'].unique()"
   ]
  },
  {
   "cell_type": "code",
   "execution_count": 286,
   "id": "8c2ed24e-3e0a-46c2-8e10-0a3f5967c7a0",
   "metadata": {},
   "outputs": [
    {
     "data": {
      "text/plain": [
       "count     100000\n",
       "unique      1788\n",
       "top           38\n",
       "freq        2833\n",
       "Name: Age, dtype: object"
      ]
     },
     "execution_count": 286,
     "metadata": {},
     "output_type": "execute_result"
    }
   ],
   "source": [
    "df_train.Age.describe()"
   ]
  },
  {
   "cell_type": "code",
   "execution_count": 287,
   "id": "bb31bb12-0798-4b34-846e-54725125615d",
   "metadata": {
    "scrolled": true
   },
   "outputs": [
    {
     "data": {
      "text/html": [
       "<div>\n",
       "<style scoped>\n",
       "    .dataframe tbody tr th:only-of-type {\n",
       "        vertical-align: middle;\n",
       "    }\n",
       "\n",
       "    .dataframe tbody tr th {\n",
       "        vertical-align: top;\n",
       "    }\n",
       "\n",
       "    .dataframe thead th {\n",
       "        text-align: right;\n",
       "    }\n",
       "</style>\n",
       "<table border=\"1\" class=\"dataframe\">\n",
       "  <thead>\n",
       "    <tr style=\"text-align: right;\">\n",
       "      <th></th>\n",
       "      <th>count</th>\n",
       "      <th>unique</th>\n",
       "      <th>top</th>\n",
       "      <th>freq</th>\n",
       "    </tr>\n",
       "  </thead>\n",
       "  <tbody>\n",
       "    <tr>\n",
       "      <th>ID</th>\n",
       "      <td>100000</td>\n",
       "      <td>100000</td>\n",
       "      <td>0x1602</td>\n",
       "      <td>1</td>\n",
       "    </tr>\n",
       "    <tr>\n",
       "      <th>Customer_ID</th>\n",
       "      <td>100000</td>\n",
       "      <td>12500</td>\n",
       "      <td>CUS_0xd40</td>\n",
       "      <td>8</td>\n",
       "    </tr>\n",
       "    <tr>\n",
       "      <th>Month</th>\n",
       "      <td>100000</td>\n",
       "      <td>8</td>\n",
       "      <td>January</td>\n",
       "      <td>12500</td>\n",
       "    </tr>\n",
       "    <tr>\n",
       "      <th>Name</th>\n",
       "      <td>90015</td>\n",
       "      <td>10139</td>\n",
       "      <td>Langep</td>\n",
       "      <td>44</td>\n",
       "    </tr>\n",
       "    <tr>\n",
       "      <th>Age</th>\n",
       "      <td>100000</td>\n",
       "      <td>1788</td>\n",
       "      <td>38</td>\n",
       "      <td>2833</td>\n",
       "    </tr>\n",
       "    <tr>\n",
       "      <th>SSN</th>\n",
       "      <td>100000</td>\n",
       "      <td>12501</td>\n",
       "      <td>#F%$D@*&amp;8</td>\n",
       "      <td>5572</td>\n",
       "    </tr>\n",
       "    <tr>\n",
       "      <th>Occupation</th>\n",
       "      <td>100000</td>\n",
       "      <td>16</td>\n",
       "      <td>_______</td>\n",
       "      <td>7062</td>\n",
       "    </tr>\n",
       "    <tr>\n",
       "      <th>Annual_Income</th>\n",
       "      <td>100000</td>\n",
       "      <td>18940</td>\n",
       "      <td>36585.12</td>\n",
       "      <td>16</td>\n",
       "    </tr>\n",
       "    <tr>\n",
       "      <th>Monthly_Inhand_Salary</th>\n",
       "      <td>84998</td>\n",
       "      <td>13235</td>\n",
       "      <td>6769.13</td>\n",
       "      <td>15</td>\n",
       "    </tr>\n",
       "    <tr>\n",
       "      <th>Num_Bank_Accounts</th>\n",
       "      <td>100000</td>\n",
       "      <td>943</td>\n",
       "      <td>6</td>\n",
       "      <td>13001</td>\n",
       "    </tr>\n",
       "    <tr>\n",
       "      <th>Num_Credit_Card</th>\n",
       "      <td>100000</td>\n",
       "      <td>1179</td>\n",
       "      <td>5</td>\n",
       "      <td>18459</td>\n",
       "    </tr>\n",
       "    <tr>\n",
       "      <th>Interest_Rate</th>\n",
       "      <td>100000</td>\n",
       "      <td>1750</td>\n",
       "      <td>8</td>\n",
       "      <td>5012</td>\n",
       "    </tr>\n",
       "    <tr>\n",
       "      <th>Num_of_Loan</th>\n",
       "      <td>100000</td>\n",
       "      <td>434</td>\n",
       "      <td>3</td>\n",
       "      <td>14386</td>\n",
       "    </tr>\n",
       "    <tr>\n",
       "      <th>Type_of_Loan</th>\n",
       "      <td>88592</td>\n",
       "      <td>6260</td>\n",
       "      <td>Not Specified</td>\n",
       "      <td>1408</td>\n",
       "    </tr>\n",
       "    <tr>\n",
       "      <th>Delay_from_due_date</th>\n",
       "      <td>100000</td>\n",
       "      <td>73</td>\n",
       "      <td>15</td>\n",
       "      <td>3596</td>\n",
       "    </tr>\n",
       "    <tr>\n",
       "      <th>Num_of_Delayed_Payment</th>\n",
       "      <td>92998</td>\n",
       "      <td>749</td>\n",
       "      <td>19</td>\n",
       "      <td>5327</td>\n",
       "    </tr>\n",
       "    <tr>\n",
       "      <th>Changed_Credit_Limit</th>\n",
       "      <td>100000</td>\n",
       "      <td>4384</td>\n",
       "      <td>_</td>\n",
       "      <td>2091</td>\n",
       "    </tr>\n",
       "    <tr>\n",
       "      <th>Num_Credit_Inquiries</th>\n",
       "      <td>98035</td>\n",
       "      <td>1223</td>\n",
       "      <td>4.0</td>\n",
       "      <td>11271</td>\n",
       "    </tr>\n",
       "    <tr>\n",
       "      <th>Credit_Mix</th>\n",
       "      <td>100000</td>\n",
       "      <td>4</td>\n",
       "      <td>Standard</td>\n",
       "      <td>36479</td>\n",
       "    </tr>\n",
       "    <tr>\n",
       "      <th>Outstanding_Debt</th>\n",
       "      <td>100000</td>\n",
       "      <td>13178</td>\n",
       "      <td>1360.45</td>\n",
       "      <td>24</td>\n",
       "    </tr>\n",
       "    <tr>\n",
       "      <th>Credit_Utilization_Ratio</th>\n",
       "      <td>100000</td>\n",
       "      <td>100000</td>\n",
       "      <td>26.822619623699016</td>\n",
       "      <td>1</td>\n",
       "    </tr>\n",
       "    <tr>\n",
       "      <th>Credit_History_Age</th>\n",
       "      <td>90970</td>\n",
       "      <td>404</td>\n",
       "      <td>15 Years and 11 Months</td>\n",
       "      <td>446</td>\n",
       "    </tr>\n",
       "    <tr>\n",
       "      <th>Payment_of_Min_Amount</th>\n",
       "      <td>100000</td>\n",
       "      <td>3</td>\n",
       "      <td>Yes</td>\n",
       "      <td>52326</td>\n",
       "    </tr>\n",
       "    <tr>\n",
       "      <th>Total_EMI_per_month</th>\n",
       "      <td>100000</td>\n",
       "      <td>14950</td>\n",
       "      <td>0.0</td>\n",
       "      <td>10613</td>\n",
       "    </tr>\n",
       "    <tr>\n",
       "      <th>Amount_invested_monthly</th>\n",
       "      <td>95521</td>\n",
       "      <td>91049</td>\n",
       "      <td>__10000__</td>\n",
       "      <td>4305</td>\n",
       "    </tr>\n",
       "    <tr>\n",
       "      <th>Payment_Behaviour</th>\n",
       "      <td>100000</td>\n",
       "      <td>7</td>\n",
       "      <td>Low_spent_Small_value_payments</td>\n",
       "      <td>25513</td>\n",
       "    </tr>\n",
       "    <tr>\n",
       "      <th>Monthly_Balance</th>\n",
       "      <td>98800</td>\n",
       "      <td>98792</td>\n",
       "      <td>__-333333333333333333333333333__</td>\n",
       "      <td>9</td>\n",
       "    </tr>\n",
       "    <tr>\n",
       "      <th>Credit_Score</th>\n",
       "      <td>100000</td>\n",
       "      <td>3</td>\n",
       "      <td>Standard</td>\n",
       "      <td>53174</td>\n",
       "    </tr>\n",
       "  </tbody>\n",
       "</table>\n",
       "</div>"
      ],
      "text/plain": [
       "                           count  unique                               top  \\\n",
       "ID                        100000  100000                            0x1602   \n",
       "Customer_ID               100000   12500                         CUS_0xd40   \n",
       "Month                     100000       8                           January   \n",
       "Name                       90015   10139                            Langep   \n",
       "Age                       100000    1788                                38   \n",
       "SSN                       100000   12501                         #F%$D@*&8   \n",
       "Occupation                100000      16                           _______   \n",
       "Annual_Income             100000   18940                          36585.12   \n",
       "Monthly_Inhand_Salary      84998   13235                           6769.13   \n",
       "Num_Bank_Accounts         100000     943                                 6   \n",
       "Num_Credit_Card           100000    1179                                 5   \n",
       "Interest_Rate             100000    1750                                 8   \n",
       "Num_of_Loan               100000     434                                 3   \n",
       "Type_of_Loan               88592    6260                     Not Specified   \n",
       "Delay_from_due_date       100000      73                                15   \n",
       "Num_of_Delayed_Payment     92998     749                                19   \n",
       "Changed_Credit_Limit      100000    4384                                 _   \n",
       "Num_Credit_Inquiries       98035    1223                               4.0   \n",
       "Credit_Mix                100000       4                          Standard   \n",
       "Outstanding_Debt          100000   13178                           1360.45   \n",
       "Credit_Utilization_Ratio  100000  100000                26.822619623699016   \n",
       "Credit_History_Age         90970     404            15 Years and 11 Months   \n",
       "Payment_of_Min_Amount     100000       3                               Yes   \n",
       "Total_EMI_per_month       100000   14950                               0.0   \n",
       "Amount_invested_monthly    95521   91049                         __10000__   \n",
       "Payment_Behaviour         100000       7    Low_spent_Small_value_payments   \n",
       "Monthly_Balance            98800   98792  __-333333333333333333333333333__   \n",
       "Credit_Score              100000       3                          Standard   \n",
       "\n",
       "                           freq  \n",
       "ID                            1  \n",
       "Customer_ID                   8  \n",
       "Month                     12500  \n",
       "Name                         44  \n",
       "Age                        2833  \n",
       "SSN                        5572  \n",
       "Occupation                 7062  \n",
       "Annual_Income                16  \n",
       "Monthly_Inhand_Salary        15  \n",
       "Num_Bank_Accounts         13001  \n",
       "Num_Credit_Card           18459  \n",
       "Interest_Rate              5012  \n",
       "Num_of_Loan               14386  \n",
       "Type_of_Loan               1408  \n",
       "Delay_from_due_date        3596  \n",
       "Num_of_Delayed_Payment     5327  \n",
       "Changed_Credit_Limit       2091  \n",
       "Num_Credit_Inquiries      11271  \n",
       "Credit_Mix                36479  \n",
       "Outstanding_Debt             24  \n",
       "Credit_Utilization_Ratio      1  \n",
       "Credit_History_Age          446  \n",
       "Payment_of_Min_Amount     52326  \n",
       "Total_EMI_per_month       10613  \n",
       "Amount_invested_monthly    4305  \n",
       "Payment_Behaviour         25513  \n",
       "Monthly_Balance               9  \n",
       "Credit_Score              53174  "
      ]
     },
     "execution_count": 287,
     "metadata": {},
     "output_type": "execute_result"
    }
   ],
   "source": [
    "df_train.describe().T"
   ]
  },
  {
   "cell_type": "markdown",
   "id": "6276de8e-c71a-4cf0-8085-e3d970289ef1",
   "metadata": {},
   "source": [
    "Аномальные значения в __Monthly_Balance__. Большинство строк признака __Occupation__ имеют прочерки."
   ]
  },
  {
   "cell_type": "markdown",
   "id": "404b7cee-0e1f-439d-8e9f-a8473bd87d0b",
   "metadata": {},
   "source": [
    "### Предварительная обработка данных"
   ]
  },
  {
   "cell_type": "code",
   "execution_count": 288,
   "id": "a6d955c2-a647-4e75-9b7a-57f34cbfcdd9",
   "metadata": {},
   "outputs": [],
   "source": [
    "# Удаление столбцов с ID. Удаление пустых строк. Приведение признаков к нормальному виду."
   ]
  },
  {
   "cell_type": "code",
   "execution_count": 311,
   "id": "f39081d9-77be-4234-8d45-807ae2ff374c",
   "metadata": {
    "scrolled": true
   },
   "outputs": [
    {
     "data": {
      "text/html": [
       "<div>\n",
       "<style scoped>\n",
       "    .dataframe tbody tr th:only-of-type {\n",
       "        vertical-align: middle;\n",
       "    }\n",
       "\n",
       "    .dataframe tbody tr th {\n",
       "        vertical-align: top;\n",
       "    }\n",
       "\n",
       "    .dataframe thead th {\n",
       "        text-align: right;\n",
       "    }\n",
       "</style>\n",
       "<table border=\"1\" class=\"dataframe\">\n",
       "  <thead>\n",
       "    <tr style=\"text-align: right;\">\n",
       "      <th></th>\n",
       "      <th>Month</th>\n",
       "      <th>Name</th>\n",
       "      <th>Age</th>\n",
       "      <th>SSN</th>\n",
       "      <th>Occupation</th>\n",
       "      <th>Annual_Income</th>\n",
       "      <th>Monthly_Inhand_Salary</th>\n",
       "      <th>Num_Bank_Accounts</th>\n",
       "      <th>Num_Credit_Card</th>\n",
       "      <th>Interest_Rate</th>\n",
       "      <th>...</th>\n",
       "      <th>Credit_Mix</th>\n",
       "      <th>Outstanding_Debt</th>\n",
       "      <th>Credit_Utilization_Ratio</th>\n",
       "      <th>Credit_History_Age</th>\n",
       "      <th>Payment_of_Min_Amount</th>\n",
       "      <th>Total_EMI_per_month</th>\n",
       "      <th>Amount_invested_monthly</th>\n",
       "      <th>Payment_Behaviour</th>\n",
       "      <th>Monthly_Balance</th>\n",
       "      <th>Credit_Score</th>\n",
       "    </tr>\n",
       "  </thead>\n",
       "  <tbody>\n",
       "    <tr>\n",
       "      <th>0</th>\n",
       "      <td>January</td>\n",
       "      <td>Aaron Maashoh</td>\n",
       "      <td>23</td>\n",
       "      <td>821-00-0265</td>\n",
       "      <td>Scientist</td>\n",
       "      <td>19114.12</td>\n",
       "      <td>1824.8433333333328</td>\n",
       "      <td>3</td>\n",
       "      <td>4</td>\n",
       "      <td>3</td>\n",
       "      <td>...</td>\n",
       "      <td>_</td>\n",
       "      <td>809.98</td>\n",
       "      <td>26.822619623699016</td>\n",
       "      <td>22 Years and 1 Months</td>\n",
       "      <td>No</td>\n",
       "      <td>49.57494921489417</td>\n",
       "      <td>80.41529543900253</td>\n",
       "      <td>High_spent_Small_value_payments</td>\n",
       "      <td>312.49408867943663</td>\n",
       "      <td>Good</td>\n",
       "    </tr>\n",
       "    <tr>\n",
       "      <th>1</th>\n",
       "      <td>February</td>\n",
       "      <td>Aaron Maashoh</td>\n",
       "      <td>23</td>\n",
       "      <td>821-00-0265</td>\n",
       "      <td>Scientist</td>\n",
       "      <td>19114.12</td>\n",
       "      <td>NaN</td>\n",
       "      <td>3</td>\n",
       "      <td>4</td>\n",
       "      <td>3</td>\n",
       "      <td>...</td>\n",
       "      <td>Good</td>\n",
       "      <td>809.98</td>\n",
       "      <td>31.94496005538421</td>\n",
       "      <td>NaN</td>\n",
       "      <td>No</td>\n",
       "      <td>49.57494921489417</td>\n",
       "      <td>118.28022162236736</td>\n",
       "      <td>Low_spent_Large_value_payments</td>\n",
       "      <td>284.62916249607184</td>\n",
       "      <td>Good</td>\n",
       "    </tr>\n",
       "  </tbody>\n",
       "</table>\n",
       "<p>2 rows × 26 columns</p>\n",
       "</div>"
      ],
      "text/plain": [
       "      Month           Name Age          SSN Occupation Annual_Income  \\\n",
       "0   January  Aaron Maashoh  23  821-00-0265  Scientist      19114.12   \n",
       "1  February  Aaron Maashoh  23  821-00-0265  Scientist      19114.12   \n",
       "\n",
       "  Monthly_Inhand_Salary Num_Bank_Accounts Num_Credit_Card Interest_Rate  ...  \\\n",
       "0    1824.8433333333328                 3               4             3  ...   \n",
       "1                   NaN                 3               4             3  ...   \n",
       "\n",
       "  Credit_Mix Outstanding_Debt Credit_Utilization_Ratio     Credit_History_Age  \\\n",
       "0          _           809.98       26.822619623699016  22 Years and 1 Months   \n",
       "1       Good           809.98        31.94496005538421                    NaN   \n",
       "\n",
       "  Payment_of_Min_Amount Total_EMI_per_month Amount_invested_monthly  \\\n",
       "0                    No   49.57494921489417       80.41529543900253   \n",
       "1                    No   49.57494921489417      118.28022162236736   \n",
       "\n",
       "                 Payment_Behaviour     Monthly_Balance Credit_Score  \n",
       "0  High_spent_Small_value_payments  312.49408867943663         Good  \n",
       "1   Low_spent_Large_value_payments  284.62916249607184         Good  \n",
       "\n",
       "[2 rows x 26 columns]"
      ]
     },
     "execution_count": 311,
     "metadata": {},
     "output_type": "execute_result"
    }
   ],
   "source": [
    "df = df_train.drop(['ID', 'Customer_ID'], axis=1)\n",
    "df.head(2)"
   ]
  },
  {
   "cell_type": "code",
   "execution_count": 312,
   "id": "3d9f7075-da65-4891-a3c8-a788136e9013",
   "metadata": {},
   "outputs": [],
   "source": [
    "# df.Age = df.Age.apply(pd.to_numeric) \n",
    "def to_int_number(num):\n",
    "    if num.isdigit():\n",
    "        return int(num)\n",
    "    else:\n",
    "        return np.NaN\n",
    "\n",
    "def to_norm_age(age):\n",
    "    if age > 100:\n",
    "        return 100\n",
    "    elif age < 18:\n",
    "        return 18\n",
    "    return age"
   ]
  },
  {
   "cell_type": "code",
   "execution_count": 313,
   "id": "c40705e8-1f4c-4fdd-9500-118b7bbbb5a0",
   "metadata": {},
   "outputs": [],
   "source": [
    "df.Age = df.Age.map(to_int_number)"
   ]
  },
  {
   "cell_type": "code",
   "execution_count": 314,
   "id": "f7cb47a7-112d-4ebc-bdbb-dc44005c54da",
   "metadata": {},
   "outputs": [],
   "source": [
    "df.Age = df.Age.map(to_norm_age)"
   ]
  },
  {
   "cell_type": "code",
   "execution_count": 315,
   "id": "058b7838-790e-46e7-ac2a-4a46e02b60d1",
   "metadata": {},
   "outputs": [],
   "source": [
    "df.Age.fillna(df.Age.mean(), inplace=True)"
   ]
  },
  {
   "cell_type": "code",
   "execution_count": 316,
   "id": "5f2e4a73-1a38-4b0a-b409-3c8c73a6211e",
   "metadata": {
    "scrolled": true
   },
   "outputs": [
    {
     "data": {
      "text/plain": [
       "count    100000.000000\n",
       "mean         34.735535\n",
       "std          13.464354\n",
       "min          18.000000\n",
       "25%          25.000000\n",
       "50%          34.000000\n",
       "75%          42.000000\n",
       "max         100.000000\n",
       "Name: Age, dtype: float64"
      ]
     },
     "execution_count": 316,
     "metadata": {},
     "output_type": "execute_result"
    }
   ],
   "source": [
    "df.Age.describe()"
   ]
  },
  {
   "cell_type": "code",
   "execution_count": 318,
   "id": "41483ae9-c730-4ba2-9d91-ec4c2aeb3fcd",
   "metadata": {},
   "outputs": [
    {
     "data": {
      "text/plain": [
       "7062"
      ]
     },
     "execution_count": 318,
     "metadata": {},
     "output_type": "execute_result"
    }
   ],
   "source": [
    "df.Occupation.where(df.Occupation == \"_______\").count()"
   ]
  },
  {
   "cell_type": "code",
   "execution_count": 319,
   "id": "bfc68982-1993-407d-8a9f-50c1b476866c",
   "metadata": {},
   "outputs": [],
   "source": [
    "df['Occupation'] = df['Occupation'].replace(\"_______\", \"No occupation\")"
   ]
  },
  {
   "cell_type": "code",
   "execution_count": 320,
   "id": "572d2215-bb89-4b8d-9703-bbbaac5bde5f",
   "metadata": {},
   "outputs": [
    {
     "data": {
      "text/plain": [
       "Occupation\n",
       "No occupation    7062\n",
       "Lawyer           6575\n",
       "Architect        6355\n",
       "Engineer         6350\n",
       "Scientist        6299\n",
       "Mechanic         6291\n",
       "Accountant       6271\n",
       "Developer        6235\n",
       "Media_Manager    6232\n",
       "Teacher          6215\n",
       "Entrepreneur     6174\n",
       "Doctor           6087\n",
       "Journalist       6085\n",
       "Manager          5973\n",
       "Musician         5911\n",
       "Writer           5885\n",
       "Name: count, dtype: int64"
      ]
     },
     "execution_count": 320,
     "metadata": {},
     "output_type": "execute_result"
    }
   ],
   "source": [
    "df.Occupation.value_counts()"
   ]
  },
  {
   "cell_type": "code",
   "execution_count": 322,
   "id": "eddac341-b127-4242-b02d-26504394db18",
   "metadata": {},
   "outputs": [
    {
     "data": {
      "text/plain": [
       "Month                           0\n",
       "Name                         9985\n",
       "Age                             0\n",
       "SSN                             0\n",
       "Occupation                      0\n",
       "Annual_Income                   0\n",
       "Monthly_Inhand_Salary       15002\n",
       "Num_Bank_Accounts               0\n",
       "Num_Credit_Card                 0\n",
       "Interest_Rate                   0\n",
       "Num_of_Loan                     0\n",
       "Type_of_Loan                11408\n",
       "Delay_from_due_date             0\n",
       "Num_of_Delayed_Payment       7002\n",
       "Changed_Credit_Limit            0\n",
       "Num_Credit_Inquiries         1965\n",
       "Credit_Mix                      0\n",
       "Outstanding_Debt                0\n",
       "Credit_Utilization_Ratio        0\n",
       "Credit_History_Age           9030\n",
       "Payment_of_Min_Amount           0\n",
       "Total_EMI_per_month             0\n",
       "Amount_invested_monthly      4479\n",
       "Payment_Behaviour               0\n",
       "Monthly_Balance              1200\n",
       "Credit_Score                    0\n",
       "dtype: int64"
      ]
     },
     "execution_count": 322,
     "metadata": {},
     "output_type": "execute_result"
    }
   ],
   "source": [
    "df.isna().sum()"
   ]
  },
  {
   "cell_type": "code",
   "execution_count": null,
   "id": "a457adaa-de2d-4847-a7d5-c561db90396d",
   "metadata": {},
   "outputs": [],
   "source": []
  },
  {
   "cell_type": "code",
   "execution_count": null,
   "id": "62a5c2cb-bf8f-4ad1-9462-7fbe1461328c",
   "metadata": {},
   "outputs": [],
   "source": []
  }
 ],
 "metadata": {
  "kernelspec": {
   "display_name": "Python 3 (ipykernel)",
   "language": "python",
   "name": "python3"
  },
  "language_info": {
   "codemirror_mode": {
    "name": "ipython",
    "version": 3
   },
   "file_extension": ".py",
   "mimetype": "text/x-python",
   "name": "python",
   "nbconvert_exporter": "python",
   "pygments_lexer": "ipython3",
   "version": "3.12.4"
  }
 },
 "nbformat": 4,
 "nbformat_minor": 5
}
